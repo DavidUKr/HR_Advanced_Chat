{
 "cells": [
  {
   "cell_type": "markdown",
   "id": "b228699e-843f-4271-bb92-1920d36d1c24",
   "metadata": {},
   "source": [
    "# RetrievalQA"
   ]
  },
  {
   "cell_type": "code",
   "execution_count": 2,
   "id": "ba55ff32-264c-403f-abd0-c46a23b3a357",
   "metadata": {},
   "outputs": [
    {
     "ename": "ValueError",
     "evalue": "File path movie_script.pdf is not a valid file or url",
     "output_type": "error",
     "traceback": [
      "\u001b[1;31m---------------------------------------------------------------------------\u001b[0m",
      "\u001b[1;31mValueError\u001b[0m                                Traceback (most recent call last)",
      "Cell \u001b[1;32mIn[2], line 14\u001b[0m\n\u001b[0;32m     10\u001b[0m \u001b[38;5;28;01mfrom\u001b[39;00m \u001b[38;5;21;01mlangchain\u001b[39;00m\u001b[38;5;21;01m.\u001b[39;00m\u001b[38;5;21;01mdocument_loaders\u001b[39;00m \u001b[38;5;28;01mimport\u001b[39;00m PyPDFLoader\n\u001b[0;32m     13\u001b[0m \u001b[38;5;66;03m# Load and process the text\u001b[39;00m\n\u001b[1;32m---> 14\u001b[0m loader \u001b[38;5;241m=\u001b[39m PyPDFLoader(\u001b[38;5;124m'\u001b[39m\u001b[38;5;124mmovie_script.pdf\u001b[39m\u001b[38;5;124m'\u001b[39m)\n\u001b[0;32m     15\u001b[0m documents \u001b[38;5;241m=\u001b[39m loader\u001b[38;5;241m.\u001b[39mload()\n\u001b[0;32m     17\u001b[0m text_splitter \u001b[38;5;241m=\u001b[39m RecursiveCharacterTextSplitter(chunk_size\u001b[38;5;241m=\u001b[39m\u001b[38;5;241m1000\u001b[39m, chunk_overlap\u001b[38;5;241m=\u001b[39m\u001b[38;5;241m0\u001b[39m)\n",
      "File \u001b[1;32m~\\anaconda3\\Lib\\site-packages\\langchain_community\\document_loaders\\pdf.py:182\u001b[0m, in \u001b[0;36mPyPDFLoader.__init__\u001b[1;34m(self, file_path, password, headers, extract_images)\u001b[0m\n\u001b[0;32m    178\u001b[0m \u001b[38;5;28;01mexcept\u001b[39;00m \u001b[38;5;167;01mImportError\u001b[39;00m:\n\u001b[0;32m    179\u001b[0m     \u001b[38;5;28;01mraise\u001b[39;00m \u001b[38;5;167;01mImportError\u001b[39;00m(\n\u001b[0;32m    180\u001b[0m         \u001b[38;5;124m\"\u001b[39m\u001b[38;5;124mpypdf package not found, please install it with \u001b[39m\u001b[38;5;124m\"\u001b[39m \u001b[38;5;124m\"\u001b[39m\u001b[38;5;124m`pip install pypdf`\u001b[39m\u001b[38;5;124m\"\u001b[39m\n\u001b[0;32m    181\u001b[0m     )\n\u001b[1;32m--> 182\u001b[0m \u001b[38;5;28msuper\u001b[39m()\u001b[38;5;241m.\u001b[39m\u001b[38;5;21m__init__\u001b[39m(file_path, headers\u001b[38;5;241m=\u001b[39mheaders)\n\u001b[0;32m    183\u001b[0m \u001b[38;5;28mself\u001b[39m\u001b[38;5;241m.\u001b[39mparser \u001b[38;5;241m=\u001b[39m PyPDFParser(password\u001b[38;5;241m=\u001b[39mpassword, extract_images\u001b[38;5;241m=\u001b[39mextract_images)\n",
      "File \u001b[1;32m~\\anaconda3\\Lib\\site-packages\\langchain_community\\document_loaders\\pdf.py:116\u001b[0m, in \u001b[0;36mBasePDFLoader.__init__\u001b[1;34m(self, file_path, headers)\u001b[0m\n\u001b[0;32m    114\u001b[0m         \u001b[38;5;28mself\u001b[39m\u001b[38;5;241m.\u001b[39mfile_path \u001b[38;5;241m=\u001b[39m \u001b[38;5;28mstr\u001b[39m(temp_pdf)\n\u001b[0;32m    115\u001b[0m \u001b[38;5;28;01melif\u001b[39;00m \u001b[38;5;129;01mnot\u001b[39;00m os\u001b[38;5;241m.\u001b[39mpath\u001b[38;5;241m.\u001b[39misfile(\u001b[38;5;28mself\u001b[39m\u001b[38;5;241m.\u001b[39mfile_path):\n\u001b[1;32m--> 116\u001b[0m     \u001b[38;5;28;01mraise\u001b[39;00m \u001b[38;5;167;01mValueError\u001b[39;00m(\u001b[38;5;124m\"\u001b[39m\u001b[38;5;124mFile path \u001b[39m\u001b[38;5;132;01m%s\u001b[39;00m\u001b[38;5;124m is not a valid file or url\u001b[39m\u001b[38;5;124m\"\u001b[39m \u001b[38;5;241m%\u001b[39m \u001b[38;5;28mself\u001b[39m\u001b[38;5;241m.\u001b[39mfile_path)\n",
      "\u001b[1;31mValueError\u001b[0m: File path movie_script.pdf is not a valid file or url"
     ]
    }
   ],
   "source": [
    "from langchain.vectorstores import Chroma\n",
    "#from langchain.embeddings import OpenAIEmbeddings\n",
    "from langchain_openai import OpenAIEmbeddings\n",
    "from langchain.text_splitter import RecursiveCharacterTextSplitter\n",
    "from langchain.llms import OpenAI\n",
    "from langchain_openai import ChatOpenAI\n",
    "# RetrievalQA\n",
    "from langchain.chains import RetrievalQA\n",
    "from langchain.document_loaders import TextLoader\n",
    "from langchain.document_loaders import PyPDFLoader\n",
    "\n",
    "\n",
    "# Load and process the text\n",
    "loader = PyPDFLoader('movie_script.pdf')\n",
    "documents = loader.load()\n",
    "\n",
    "text_splitter = RecursiveCharacterTextSplitter(chunk_size=1000, chunk_overlap=0)\n",
    "texts = text_splitter.split_documents(documents)\n",
    "\n",
    "persist_directory = 'db'\n",
    "\n",
    "embedding = OpenAIEmbeddings(api_key='')\n",
    "vectordb = Chroma.from_documents(documents=texts, embedding=embedding, persist_directory=persist_directory)\n",
    "\n",
    "#vectordb.persist()\n",
    "vectordb = None\n",
    "\n",
    "# Now we can load the persisted database from disk, and use it as normal. \n",
    "vectordb = Chroma(persist_directory=persist_directory, embedding_function=embedding)\n",
    "\n",
    " \n",
    "\n",
    "llm = ChatOpenAI(model_name=\"gpt-3.5-turbo\", temperature=0)\n",
    "\n",
    "qa = RetrievalQA.from_chain_type(\n",
    "    llm, retriever=vectordb.as_retriever()#, chain_type_kwargs={\"prompt\": prompt}\n",
    ")\n",
    "#query = \"Tell me something about each character\"\n",
    "prompts = [\n",
    "    \"Tell me something about each character in the script.\",\n",
    "    \"What is the main plot of the movie?\",\n",
    "    \"Describe the relationship between the main characters.\",\n",
    "    \"What are some key themes in the script?\"\n",
    "]\n",
    "for prompt in prompts:\n",
    "    response = qa.invoke(prompt)\n",
    "    print(f\"Prompt: {prompt}\\nResponse: {response}\\n\")\n",
    "#qa.run(query)\n",
    "#vectordb.delete_collection()"
   ]
  },
  {
   "cell_type": "markdown",
   "id": "69679658-dd90-4f55-9eb5-11ee100a37ca",
   "metadata": {},
   "source": [
    "# ConversationalRetrievalChain & RetrievalQA"
   ]
  },
  {
   "cell_type": "code",
   "execution_count": 1,
   "id": "0d9afac5-80fc-4397-ba53-9a7825e61777",
   "metadata": {},
   "outputs": [
    {
     "name": "stdout",
     "output_type": "stream",
     "text": [
      "Spent a total of 1273 tokens\n",
      "Response: {'query': 'Tell me something about each character in the script.', 'result': \"1. **Amy**: Amy is a character who seems to be working on a project related to sleep and dreams. She is frustrated when her point doesn't come across clearly and is focused on creating a documentary.\\n  \\n2. **Charles**: Charles suggests an idea to Amy about interviewing her mom about her dreams and hiring actors to act them out. He seems to be creative and thinking outside the box.\\n  \\n3. **Theodore**: Theodore is the main character who works in an office and is going through a divorce. He is shown to be caring and attentive, especially in his interactions with Samantha, who seems to be a significant person in his life.\\n  \\n4. **Samantha**: Samantha is a character who communicates with Theodore through his device. She seems to be thoughtful and caring, expressing her love for Theodore and checking in on him.\\n  \\n5. **Paul**: Paul is a colleague of Theodore's who seems to have a girlfriend named Tatiana. He is friendly and suggests a double date with Theodore and Samantha.\\n  \\n6. **Tatiana**: Tatiana is Paul's girlfriend, who is described as a lawyer. She appreciates Theodore's writing and seems to be interested in getting to know him and Samantha better.\"}\n",
      "Spent a total of 876 tokens\n",
      "Response: {'query': 'What is the main plot of the movie?', 'result': 'The main plot of the movie \"Her\" revolves around a man named Theodore who develops a romantic relationship with an artificial intelligence operating system named Samantha. The film explores themes of love, loneliness, and the nature of human connection in a technologically advanced society.'}\n",
      "Spent a total of 877 tokens\n",
      "Response: {'query': 'Describe the relationship between the main characters.', 'result': \"The main characters in the provided context seem to have a close and supportive relationship. Theodore and Amy share moments of vulnerability and comfort with each other, such as sitting together on a rooftop, sharing personal experiences, and engaging in light-hearted banter. They seem to care for each other, as seen when Amy puts her hand on Theodore's hand and Charles gives Theodore a gentle squeeze on his shoulder. Their interactions suggest a level of understanding and connection between them.\"}\n",
      "Spent a total of 1043 tokens\n",
      "Response: {'query': 'What are some key themes in the script?', 'result': 'Some key themes in the script include relationships, loneliness, communication, technology, self-discovery, and the complexities of human emotions.'}\n",
      "1. Human: Tell me something about each character in the script.\n",
      "2. AI: {'query': 'Tell me something about each character in the script.', 'result': \"1. **Amy**: Amy is a character who seems to be working on a project related to sleep and dreams. She is frustrated when her point doesn't come across clearly and is focused on creating a documentary.\\n  \\n2. **Charles**: Charles suggests an idea to Amy about interviewing her mom about her dreams and hiring actors to act them out. He seems to be creative and thinking outside the box.\\n  \\n3. **Theodore**: Theodore is the main character who works in an office and is going through a divorce. He is shown to be caring and attentive, especially in his interactions with Samantha, who seems to be a significant person in his life.\\n  \\n4. **Samantha**: Samantha is a character who communicates with Theodore through his device. She seems to be thoughtful and caring, expressing her love for Theodore and checking in on him.\\n  \\n5. **Paul**: Paul is a colleague of Theodore's who seems to have a girlfriend named Tatiana. He is friendly and suggests a double date with Theodore and Samantha.\\n  \\n6. **Tatiana**: Tatiana is Paul's girlfriend, who is described as a lawyer. She appreciates Theodore's writing and seems to be interested in getting to know him and Samantha better.\"}\n",
      "3. Human: What is the main plot of the movie?\n",
      "4. AI: {'query': 'What is the main plot of the movie?', 'result': 'The main plot of the movie \"Her\" revolves around a man named Theodore who develops a romantic relationship with an artificial intelligence operating system named Samantha. The film explores themes of love, loneliness, and the nature of human connection in a technologically advanced society.'}\n",
      "5. Human: Describe the relationship between the main characters.\n",
      "6. AI: {'query': 'Describe the relationship between the main characters.', 'result': \"The main characters in the provided context seem to have a close and supportive relationship. Theodore and Amy share moments of vulnerability and comfort with each other, such as sitting together on a rooftop, sharing personal experiences, and engaging in light-hearted banter. They seem to care for each other, as seen when Amy puts her hand on Theodore's hand and Charles gives Theodore a gentle squeeze on his shoulder. Their interactions suggest a level of understanding and connection between them.\"}\n",
      "7. Human: What are some key themes in the script?\n",
      "8. AI: {'query': 'What are some key themes in the script?', 'result': 'Some key themes in the script include relationships, loneliness, communication, technology, self-discovery, and the complexities of human emotions.'}\n"
     ]
    }
   ],
   "source": [
    "from langchain.callbacks import get_openai_callback\n",
    "from langchain.chains import ConversationChain\n",
    "from langchain.chains.conversation.memory import ConversationBufferMemory\n",
    "from langchain_openai import OpenAIEmbeddings, ChatOpenAI\n",
    "from langchain.vectorstores import Chroma\n",
    "from langchain.document_loaders import PyPDFLoader\n",
    "from langchain.text_splitter import RecursiveCharacterTextSplitter\n",
    "from langchain.chains import RetrievalQA\n",
    "from langchain.schema import HumanMessage, AIMessage\n",
    "\n",
    "# Initialize the LLM and OpenAI embeddings\n",
    "llm = ChatOpenAI(model_name=\"gpt-3.5-turbo\", temperature=0)\n",
    "embedding = OpenAIEmbeddings(api_key='')  # Replace with your OpenAI API key\n",
    "\n",
    "# Load and process the text\n",
    "loader = PyPDFLoader('movie_script.pdf')\n",
    "documents = loader.load()\n",
    "\n",
    "text_splitter = RecursiveCharacterTextSplitter(chunk_size=1000, chunk_overlap=0)\n",
    "texts = text_splitter.split_documents(documents)\n",
    "\n",
    "# Create the Chroma vector store\n",
    "vectordb = Chroma.from_documents(documents=texts, embedding=embedding)\n",
    "\n",
    "# Create RetrievalQA instance\n",
    "qa = RetrievalQA.from_chain_type(\n",
    "    llm, retriever=vectordb.as_retriever()\n",
    ")\n",
    "\n",
    "# Define a wrapper function to store conversations in the conversation buffer\n",
    "def run_with_conversation_buffer(chain, query, conversation_buf):\n",
    "    with get_openai_callback() as cb:\n",
    "        result = chain.invoke(query)\n",
    "        conversation_buf.memory.save_context({\"input\": query}, {\"output\": str(result)})\n",
    "        print(f'Spent a total of {cb.total_tokens} tokens')\n",
    "\n",
    "    return result\n",
    "\n",
    "# Create a conversation chain with memory\n",
    "conversation_buf = ConversationChain(\n",
    "    llm=llm,\n",
    "    memory=ConversationBufferMemory()\n",
    ")\n",
    "\n",
    "# Example usage\n",
    "queries = [\n",
    "    \"Tell me something about each character in the script.\",\n",
    "    \"What is the main plot of the movie?\",\n",
    "    \"Describe the relationship between the main characters.\",\n",
    "    \"What are some key themes in the script?\"\n",
    "]\n",
    "for query in queries:\n",
    "    response = run_with_conversation_buffer(qa, query, conversation_buf)\n",
    "    print(\"Response:\", response)\n",
    "\n",
    "# Check the conversation buffer content\n",
    "for idx, message in enumerate(conversation_buf.memory.chat_memory.messages):\n",
    "    role = \"Human\" if isinstance(message, HumanMessage) else \"AI\"\n",
    "    print(f\"{idx + 1}. {role}: {message.content}\")\n",
    "\n",
    "# If necessary, access the conversation buffer directly\n",
    "#print(\"Raw Conversation Buffer Content:\")\n",
    "#print(conversation_buf.memory.chat_memory.messages)"
   ]
  },
  {
   "cell_type": "code",
   "execution_count": null,
   "id": "e4937c45-9e7e-4e3a-b163-99a959be320a",
   "metadata": {},
   "outputs": [],
   "source": []
  }
 ],
 "metadata": {
  "kernelspec": {
   "display_name": "Python 3 (ipykernel)",
   "language": "python",
   "name": "python3"
  },
  "language_info": {
   "codemirror_mode": {
    "name": "ipython",
    "version": 3
   },
   "file_extension": ".py",
   "mimetype": "text/x-python",
   "name": "python",
   "nbconvert_exporter": "python",
   "pygments_lexer": "ipython3",
   "version": "3.11.7"
  }
 },
 "nbformat": 4,
 "nbformat_minor": 5
}
