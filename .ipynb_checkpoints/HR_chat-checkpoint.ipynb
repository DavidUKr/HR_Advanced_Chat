{
 "cells": [
  {
   "cell_type": "code",
   "execution_count": 1,
   "id": "3799bb44-4f9c-4954-b563-9cd0399616cc",
   "metadata": {},
   "outputs": [],
   "source": [
    "from langchain.vectorstores import Chroma\n",
    "from langchain.llms import OpenAI\n",
    "# RetrievalQA\n",
    "from langchain.chains import RetrievalQA\n",
    "from langchain.document_loaders import TextLoader\n",
    "from langchain.document_loaders import PyPDFLoader\n",
    "\n",
    "from langchain.callbacks import get_openai_callback\n",
    "from langchain.chains import ConversationChain\n",
    "from langchain.chains.conversation.memory import ConversationBufferMemory\n",
    "from langchain_openai import OpenAIEmbeddings, ChatOpenAI\n",
    "from langchain.schema import HumanMessage, AIMessage\n",
    "\n",
    "import os"
   ]
  },
  {
   "cell_type": "code",
   "execution_count": 2,
   "id": "ec23406c-7413-4994-8ceb-6bc1389023c8",
   "metadata": {},
   "outputs": [
    {
     "name": "stdout",
     "output_type": "stream",
     "text": [
      "Prompt: What can you make of this document?\n",
      "Response: {'query': 'What can you make of this document?', 'result': \"I'm sorry, but without any specific information or content from the document you are referring to, I cannot provide an accurate interpretation. If you can provide more details or context, I would be happy to help analyze the document.\"}\n",
      "\n",
      "Prompt: Who is David Austin and what is his salary?\n",
      "Response: {'query': 'Who is David Austin and what is his salary?', 'result': \"I'm sorry, but without more context or information, I don't know who David Austin is or what his salary might be.\"}\n",
      "\n",
      "Prompt: Name an employee from China\n",
      "Response: {'query': 'Name an employee from China', 'result': \"I don't have enough information to provide a specific name of an employee from China based on the context provided.\"}\n",
      "\n",
      "Prompt: Name an employee from Europe\n",
      "Response: {'query': 'Name an employee from Europe', 'result': 'An employee from Europe could be located in the United Kingdom, France, Germany, Switzerland, Belgium, or the Netherlands.'}\n",
      "\n"
     ]
    }
   ],
   "source": [
    "loader = PyPDFLoader('Employee-details-1.pdf')\n",
    "documents = loader.load()\n",
    "\n",
    "persist_directory = 'db'\n",
    "\n",
    "embedding = OpenAIEmbeddings(api_key=os.getenv('OPENAPI_KEY'))\n",
    "# Now we can load the persisted database from disk, and use it as normal. \n",
    "vectordb = Chroma(persist_directory=persist_directory, embedding_function=embedding)\n",
    "\n",
    " \n",
    "\n",
    "llm = ChatOpenAI(model_name=\"gpt-3.5-turbo\", temperature=0)\n",
    "\n",
    "qa = RetrievalQA.from_chain_type(\n",
    "    llm, retriever=vectordb.as_retriever()#, chain_type_kwargs={\"prompt\": prompt}\n",
    ")\n",
    "#query = \"Tell me something about each character\"\n",
    "\n",
    "prompts = [\n",
    "    \"What can you make of this document?\",\n",
    "    \"Who is David Austin and what is his salary?\",\n",
    "    \"Name an employee from China\",\n",
    "    \"Name an employee from Europe\"\n",
    "]\n",
    "\n",
    "for prompt in prompts:\n",
    "    response = qa.invoke(prompt)\n",
    "    print(f\"Prompt: {prompt}\\nResponse: {response}\\n\")"
   ]
  },
  {
   "cell_type": "code",
   "execution_count": 3,
   "id": "e53bbc68-9cea-4e28-b11b-8fb7bbff90c1",
   "metadata": {},
   "outputs": [],
   "source": [
    "def run_with_conversation_buffer(chain, query, conversation_buf):\n",
    "    with get_openai_callback() as cb:\n",
    "        result = chain.invoke(query)\n",
    "        conversation_buf.memory.save_context({\"input\": query}, {\"output\": str(result)})\n",
    "        print(f'Spent a total of {cb.total_tokens} tokens')\n",
    "\n",
    "    return result"
   ]
  },
  {
   "cell_type": "code",
   "execution_count": 4,
   "id": "991985ee-bf8c-4f88-aa4a-037f90f301fc",
   "metadata": {},
   "outputs": [
    {
     "name": "stdout",
     "output_type": "stream",
     "text": [
      "Spent a total of 131 tokens\n",
      "Response: {'query': 'Who is David Austin?', 'result': 'David Austin was a British rose breeder who is known for creating new varieties of roses, particularly English Roses which combine the form and fragrance of old roses with the repeat-flowering of modern roses. His work in breeding roses has made him a prominent figure in the world of horticulture.'}\n",
      "Spent a total of 571 tokens\n",
      "Response: {'query': 'What is his salary?', 'result': \"I don't have enough information to determine the specific salary of the person you are referring to. If you provide me with the employee's ID or name, I can look up their salary in the database.\"}\n",
      "Spent a total of 1128 tokens\n",
      "Response: {'query': 'Is there someone else with the same first name?', 'result': 'In the context provided, Samantha is an artificial intelligence entity who chose the name for herself. There is no mention of another person with the same first name in this specific context.'}\n",
      "Spent a total of 441 tokens\n",
      "Response: {'query': 'Is there someone with the same origin as him?', 'result': 'Yes, in the context provided, Theodore mentions that the woman he is seeing, Samantha, is also an OS (Operating System) like the OS that Amy is bonding with.'}\n"
     ]
    }
   ],
   "source": [
    "conversation_buf = ConversationChain(\n",
    "    llm=llm,\n",
    "    memory=ConversationBufferMemory()\n",
    ")\n",
    "\n",
    "# Example usage\n",
    "queries = [\n",
    "    \"Who is David Austin?\",\n",
    "    \"What is his salary?\",\n",
    "    \"Is there someone else with the same first name?\",\n",
    "    \"Is there someone with the same origin as him?\"\n",
    "]\n",
    "for query in queries:\n",
    "    response = run_with_conversation_buffer(qa, query, conversation_buf)\n",
    "    print(\"Response:\", response)"
   ]
  },
  {
   "cell_type": "code",
   "execution_count": 5,
   "id": "560e0008-0a23-4020-900e-9edf584c0896",
   "metadata": {},
   "outputs": [
    {
     "name": "stderr",
     "output_type": "stream",
     "text": [
      "C:\\Users\\david\\anaconda3\\Lib\\site-packages\\langchain_core\\_api\\deprecation.py:119: LangChainDeprecationWarning: The class `OpenAI` was deprecated in LangChain 0.0.10 and will be removed in 0.3.0. An updated version of the class exists in the langchain-openai package and should be used instead. To use it run `pip install -U langchain-openai` and import as `from langchain_openai import OpenAI`.\n",
      "  warn_deprecated(\n"
     ]
    },
    {
     "ename": "AttributeError",
     "evalue": "'OpenAI' object has no attribute 'chat'",
     "output_type": "error",
     "traceback": [
      "\u001b[1;31m---------------------------------------------------------------------------\u001b[0m",
      "\u001b[1;31mAttributeError\u001b[0m                            Traceback (most recent call last)",
      "Cell \u001b[1;32mIn[5], line 13\u001b[0m\n\u001b[0;32m      4\u001b[0m     completion \u001b[38;5;241m=\u001b[39m client\u001b[38;5;241m.\u001b[39mchat\u001b[38;5;241m.\u001b[39mcompletions\u001b[38;5;241m.\u001b[39mcreate(\n\u001b[0;32m      5\u001b[0m         model\u001b[38;5;241m=\u001b[39m\u001b[38;5;124m\"\u001b[39m\u001b[38;5;124mgpt-3.5-turbo\u001b[39m\u001b[38;5;124m\"\u001b[39m,\n\u001b[0;32m      6\u001b[0m         messages\u001b[38;5;241m=\u001b[39m[\n\u001b[1;32m   (...)\u001b[0m\n\u001b[0;32m      9\u001b[0m         ]\n\u001b[0;32m     10\u001b[0m     )\n\u001b[0;32m     11\u001b[0m     \u001b[38;5;28;01mreturn\u001b[39;00m completion\u001b[38;5;241m.\u001b[39mchoices[\u001b[38;5;241m0\u001b[39m]\u001b[38;5;241m.\u001b[39mmessage\u001b[38;5;241m.\u001b[39mcontent\n\u001b[1;32m---> 13\u001b[0m \u001b[38;5;28mprint\u001b[39m(get_employees())\n",
      "Cell \u001b[1;32mIn[5], line 4\u001b[0m, in \u001b[0;36mget_employees\u001b[1;34m()\u001b[0m\n\u001b[0;32m      3\u001b[0m \u001b[38;5;28;01mdef\u001b[39;00m \u001b[38;5;21mget_employees\u001b[39m():\n\u001b[1;32m----> 4\u001b[0m     completion \u001b[38;5;241m=\u001b[39m client\u001b[38;5;241m.\u001b[39mchat\u001b[38;5;241m.\u001b[39mcompletions\u001b[38;5;241m.\u001b[39mcreate(\n\u001b[0;32m      5\u001b[0m         model\u001b[38;5;241m=\u001b[39m\u001b[38;5;124m\"\u001b[39m\u001b[38;5;124mgpt-3.5-turbo\u001b[39m\u001b[38;5;124m\"\u001b[39m,\n\u001b[0;32m      6\u001b[0m         messages\u001b[38;5;241m=\u001b[39m[\n\u001b[0;32m      7\u001b[0m             {\u001b[38;5;124m\"\u001b[39m\u001b[38;5;124mrole\u001b[39m\u001b[38;5;124m\"\u001b[39m: \u001b[38;5;124m\"\u001b[39m\u001b[38;5;124msystem\u001b[39m\u001b[38;5;124m\"\u001b[39m, \u001b[38;5;124m\"\u001b[39m\u001b[38;5;124mcontent\u001b[39m\u001b[38;5;124m\"\u001b[39m: \u001b[38;5;124m\"\u001b[39m\u001b[38;5;124mYou are an HR servant and need to provide answers in this format: name1,name2,name3, ...,namen from this pdf:\u001b[39m\u001b[38;5;124m\"\u001b[39m\u001b[38;5;241m+\u001b[39mdocuments},\n\u001b[0;32m      8\u001b[0m             {\u001b[38;5;124m\"\u001b[39m\u001b[38;5;124mrole\u001b[39m\u001b[38;5;124m\"\u001b[39m: \u001b[38;5;124m\"\u001b[39m\u001b[38;5;124muser\u001b[39m\u001b[38;5;124m\"\u001b[39m, \u001b[38;5;124m\"\u001b[39m\u001b[38;5;124mcontent\u001b[39m\u001b[38;5;124m\"\u001b[39m: \u001b[38;5;124m\"\u001b[39m\u001b[38;5;124mWho are the employees?\u001b[39m\u001b[38;5;124m\"\u001b[39m }\n\u001b[0;32m      9\u001b[0m         ]\n\u001b[0;32m     10\u001b[0m     )\n\u001b[0;32m     11\u001b[0m     \u001b[38;5;28;01mreturn\u001b[39;00m completion\u001b[38;5;241m.\u001b[39mchoices[\u001b[38;5;241m0\u001b[39m]\u001b[38;5;241m.\u001b[39mmessage\u001b[38;5;241m.\u001b[39mcontent\n",
      "\u001b[1;31mAttributeError\u001b[0m: 'OpenAI' object has no attribute 'chat'"
     ]
    }
   ],
   "source": [
    "client = OpenAI(api_key=os.getenv('OPENAPI_KEY'))\n",
    "\n",
    "def get_employees():\n",
    "    completion = client.chat.completions.create(\n",
    "        model=\"gpt-3.5-turbo\",\n",
    "        messages=[\n",
    "            {\"role\": \"system\", \"content\": \"You are an HR servant and need to provide answers in this format: name1,name2,name3, ...,namen from this pdf:\"+documents},\n",
    "            {\"role\": \"user\", \"content\": \"Who are the employees?\" }\n",
    "        ]\n",
    "    )\n",
    "    return completion.choices[0].message.content\n",
    "\n",
    "print(get_employees())\n"
   ]
  }
 ],
 "metadata": {
  "kernelspec": {
   "display_name": "Python 3 (ipykernel)",
   "language": "python",
   "name": "python3"
  },
  "language_info": {
   "codemirror_mode": {
    "name": "ipython",
    "version": 3
   },
   "file_extension": ".py",
   "mimetype": "text/x-python",
   "name": "python",
   "nbconvert_exporter": "python",
   "pygments_lexer": "ipython3",
   "version": "3.11.7"
  }
 },
 "nbformat": 4,
 "nbformat_minor": 5
}
