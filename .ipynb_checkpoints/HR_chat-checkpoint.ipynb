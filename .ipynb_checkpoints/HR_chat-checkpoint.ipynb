{
 "cells": [
  {
   "cell_type": "code",
   "execution_count": 13,
   "id": "3799bb44-4f9c-4954-b563-9cd0399616cc",
   "metadata": {},
   "outputs": [],
   "source": [
    "from langchain.vectorstores import Chroma\n",
    "from langchain.llms import OpenAI\n",
    "# RetrievalQA\n",
    "from langchain.chains import RetrievalQA\n",
    "from langchain.document_loaders import TextLoader\n",
    "from langchain.document_loaders import PyPDFLoader\n",
    "\n",
    "from langchain.callbacks import get_openai_callback\n",
    "from langchain.chains import ConversationChain\n",
    "from langchain.chains.conversation.memory import ConversationBufferMemory\n",
    "from langchain_openai import OpenAIEmbeddings, ChatOpenAI\n",
    "from langchain.schema import HumanMessage, AIMessage"
   ]
  },
  {
   "cell_type": "code",
   "execution_count": 14,
   "id": "ec23406c-7413-4994-8ceb-6bc1389023c8",
   "metadata": {},
   "outputs": [
    {
     "name": "stdout",
     "output_type": "stream",
     "text": [
      "Prompt: What can you make of this document?\n",
      "Response: {'query': 'What can you make of this document?', 'result': 'The document appears to be a database table containing information about employees. Each entry includes details such as employee ID, name, department, hire date, job title, salary, commission, manager ID, and department ID. The employees seem to be categorized into different departments such as Administration, IT, and Sales. The document provides a structured way to store and retrieve information about employees within an organization.'}\n",
      "\n",
      "Prompt: Who is David Austin and what is his salary?\n",
      "Response: {'query': 'Who is David Austin and what is his salary?', 'result': 'David Austin is an employee with an employee_id of 105. His salary is $4800.'}\n",
      "\n",
      "Prompt: Name an employee from China\n",
      "Response: {'query': 'Name an employee from China', 'result': \"I don't have information on the nationality of the employees in the provided data.\"}\n",
      "\n",
      "Prompt: Name an employee from Europe\n",
      "Response: {'query': 'Name an employee from Europe', 'result': 'An employee from Europe could be from countries like Italy, United Kingdom, France, Germany, Switzerland, Netherlands, Denmark, or Belgium.'}\n",
      "\n"
     ]
    }
   ],
   "source": [
    "loader = PyPDFLoader('Employee-details-1.pdf')\n",
    "documents = loader.load()\n",
    "\n",
    "persist_directory = 'db'\n",
    "\n",
    "\n",
    "# Now we can load the persisted database from disk, and use it as normal. \n",
    "vectordb = Chroma(persist_directory=persist_directory, embedding_function=embedding)\n",
    "\n",
    " \n",
    "\n",
    "llm = ChatOpenAI(model_name=\"gpt-3.5-turbo\", temperature=0)\n",
    "\n",
    "qa = RetrievalQA.from_chain_type(\n",
    "    llm, retriever=vectordb.as_retriever()#, chain_type_kwargs={\"prompt\": prompt}\n",
    ")\n",
    "#query = \"Tell me something about each character\"\n",
    "\n",
    "prompts = [\n",
    "    \"What can you make of this document?\",\n",
    "    \"Who is David Austin and what is his salary?\",\n",
    "    \"Name an employee from China\",\n",
    "    \"Name an employee from Europe\"\n",
    "]\n",
    "\n",
    "for prompt in prompts:\n",
    "    response = qa.invoke(prompt)\n",
    "    print(f\"Prompt: {prompt}\\nResponse: {response}\\n\")"
   ]
  },
  {
   "cell_type": "code",
   "execution_count": 15,
   "id": "e53bbc68-9cea-4e28-b11b-8fb7bbff90c1",
   "metadata": {},
   "outputs": [],
   "source": [
    "def run_with_conversation_buffer(chain, query, conversation_buf):\n",
    "    with get_openai_callback() as cb:\n",
    "        result = chain.invoke(query)\n",
    "        conversation_buf.memory.save_context({\"input\": query}, {\"output\": str(result)})\n",
    "        print(f'Spent a total of {cb.total_tokens} tokens')\n",
    "\n",
    "    return result"
   ]
  },
  {
   "cell_type": "code",
   "execution_count": 17,
   "id": "991985ee-bf8c-4f88-aa4a-037f90f301fc",
   "metadata": {},
   "outputs": [
    {
     "name": "stdout",
     "output_type": "stream",
     "text": [
      "Spent a total of 2057 tokens\n",
      "Response: {'query': 'Who is David Austin?', 'result': 'David Austin is an employee in the database provided. He has the employee ID 105 and works in the IT_PRO department. David Austin started working on June 25, 1997, and has a salary of 4800.'}\n",
      "Spent a total of 930 tokens\n",
      "Response: {'query': 'What is his salary?', 'result': 'The salary for Charles Johnson is 6200.'}\n",
      "Spent a total of 558 tokens\n",
      "Response: {'query': 'Is there someone else with the same first name?', 'result': 'Based on the provided information, there is no one else with the same first name. The first names mentioned are Christopher, Nanette, Jean, Martha, and Girard, and each of these names is unique within the given context.'}\n",
      "Spent a total of 1348 tokens\n",
      "Response: {'query': 'Is there someone with the same origin as him?', 'result': \"I don't have enough information to determine the origin of the individuals mentioned in the context provided.\"}\n"
     ]
    }
   ],
   "source": [
    "conversation_buf = ConversationChain(\n",
    "    llm=llm,\n",
    "    memory=ConversationBufferMemory()\n",
    ")\n",
    "\n",
    "# Example usage\n",
    "queries = [\n",
    "    \"Who is David Austin?\",\n",
    "    \"What is his salary?\",\n",
    "    \"Is there someone else with the same first name?\",\n",
    "    \"Is there someone with the same origin as him?\"\n",
    "]\n",
    "for query in queries:\n",
    "    response = run_with_conversation_buffer(qa, query, conversation_buf)\n",
    "    print(\"Response:\", response)"
   ]
  },
  {
   "cell_type": "code",
   "execution_count": null,
   "id": "560e0008-0a23-4020-900e-9edf584c0896",
   "metadata": {},
   "outputs": [],
   "source": []
  }
 ],
 "metadata": {
  "kernelspec": {
   "display_name": "Python 3 (ipykernel)",
   "language": "python",
   "name": "python3"
  },
  "language_info": {
   "codemirror_mode": {
    "name": "ipython",
    "version": 3
   },
   "file_extension": ".py",
   "mimetype": "text/x-python",
   "name": "python",
   "nbconvert_exporter": "python",
   "pygments_lexer": "ipython3",
   "version": "3.11.7"
  }
 },
 "nbformat": 4,
 "nbformat_minor": 5
}
