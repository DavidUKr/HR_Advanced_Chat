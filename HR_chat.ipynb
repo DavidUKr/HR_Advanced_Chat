{
 "cells": [
  {
   "cell_type": "code",
   "execution_count": 7,
   "id": "3799bb44-4f9c-4954-b563-9cd0399616cc",
   "metadata": {},
   "outputs": [],
   "source": [
    "from langchain.vectorstores import Chroma\n",
    "from langchain.llms import OpenAI\n",
    "# RetrievalQA\n",
    "from langchain.chains import RetrievalQA\n",
    "from langchain.document_loaders import TextLoader\n",
    "from langchain.document_loaders import PyPDFLoader\n",
    "\n",
    "from langchain.callbacks import get_openai_callback\n",
    "from langchain.chains import ConversationChain\n",
    "from langchain.chains.conversation.memory import ConversationBufferMemory\n",
    "from langchain_openai import OpenAIEmbeddings, ChatOpenAI\n",
    "from langchain.schema import HumanMessage, AIMessage\n",
    "from langchain.text_splitter import RecursiveCharacterTextSplitter\n",
    "\n",
    "import os"
   ]
  },
  {
   "cell_type": "code",
   "execution_count": 8,
   "id": "ec23406c-7413-4994-8ceb-6bc1389023c8",
   "metadata": {},
   "outputs": [
    {
     "name": "stdout",
     "output_type": "stream",
     "text": [
      "Prompt: What can you make of this document?\n",
      "Response: {'query': 'What can you make of this document?', 'result': \"This document appears to be a snippet of a database table containing information about employees. Each row represents an employee with details such as their ID, name, job title, department, hire date, salary, commission, manager ID, and department ID. The employees seem to be categorized into different departments like Administration (AD), Information Technology (IT), and Sales (SA). The document provides specific information about each employee's role, salary, and other relevant details within the organization.\"}\n",
      "\n",
      "Prompt: Who is David Austin and what is his salary?\n",
      "Response: {'query': 'Who is David Austin and what is his salary?', 'result': 'David Austin is an employee with the employee_id 105. His salary is 4800.'}\n",
      "\n",
      "Prompt: Name an employee from China\n",
      "Response: {'query': 'Name an employee from China', 'result': \"I don't have information about any employees from China in the provided data.\"}\n",
      "\n",
      "Prompt: Name an employee from Europe\n",
      "Response: {'query': 'Name an employee from Europe', 'result': 'Christopher Olsen is an employee from Europe.'}\n",
      "\n"
     ]
    }
   ],
   "source": [
    "loader = PyPDFLoader('Employee-details-1.pdf')\n",
    "documents = loader.load()\n",
    "\n",
    "persist_directory = 'db'\n",
    "\n",
    "embedding = OpenAIEmbeddings(api_key=os.getenv('OPENAPI_KEY'))\n",
    "\n",
    "text_splitter = RecursiveCharacterTextSplitter(chunk_size=1000, chunk_overlap=0)\n",
    "texts = text_splitter.split_documents(documents)\n",
    "\n",
    "# Create the Chroma vector store\n",
    "vectordb = Chroma.from_documents(documents=texts, embedding=embedding)\n",
    "\n",
    " \n",
    "\n",
    "llm = ChatOpenAI(model_name=\"gpt-3.5-turbo\", temperature=0)\n",
    "\n",
    "qa = RetrievalQA.from_chain_type(\n",
    "    llm, retriever=vectordb.as_retriever()#, chain_type_kwargs={\"prompt\": prompt}\n",
    ")\n",
    "#query = \"Tell me something about each character\"\n",
    "\n",
    "prompts = [\n",
    "    \"What can you make of this document?\",\n",
    "    \"Who is David Austin and what is his salary?\",\n",
    "    \"Name an employee from China\",\n",
    "    \"Name an employee from Europe\"\n",
    "]\n",
    "\n",
    "for prompt in prompts:\n",
    "    response = qa.invoke(prompt)\n",
    "    print(f\"Prompt: {prompt}\\nResponse: {response}\\n\")"
   ]
  },
  {
   "cell_type": "code",
   "execution_count": 9,
   "id": "e53bbc68-9cea-4e28-b11b-8fb7bbff90c1",
   "metadata": {},
   "outputs": [],
   "source": [
    "def run_with_conversation_buffer(chain, query, conversation_buf):\n",
    "    with get_openai_callback() as cb:\n",
    "        result = chain.invoke(query)\n",
    "        conversation_buf.memory.save_context({\"input\": query}, {\"output\": str(result)})\n",
    "        print(f'Spent a total of {cb.total_tokens} tokens')\n",
    "\n",
    "    return result"
   ]
  },
  {
   "cell_type": "code",
   "execution_count": 10,
   "id": "991985ee-bf8c-4f88-aa4a-037f90f301fc",
   "metadata": {},
   "outputs": [
    {
     "name": "stdout",
     "output_type": "stream",
     "text": [
      "Spent a total of 1758 tokens\n",
      "Response: {'query': 'Who is David Austin?', 'result': 'David Austin is an employee with employee ID 105 in the database provided. He works in the IT_PRO department, started on 25-JUN-1997, and has a salary of 4800.'}\n",
      "Spent a total of 719 tokens\n",
      "Response: {'query': 'What is his salary?', 'result': 'To determine the salary of the individual in question, we need to know the specific employee_id or first and last name of the person you are referring to. Without that information, it is not possible to provide the exact salary.'}\n",
      "Spent a total of 1303 tokens\n",
      "Response: {'query': 'Is there someone else with the same first name?', 'result': 'Yes, there are multiple people with the same first name in the provided context. For example, there are two individuals named James in the list.'}\n",
      "Spent a total of 1166 tokens\n",
      "Response: {'query': 'Is there someone with the same origin as him?', 'result': 'I don\\'t have enough information to determine who \"him\" refers to in your question. Could you please provide more context or clarify who you are referring to?'}\n"
     ]
    }
   ],
   "source": [
    "conversation_buf = ConversationChain(\n",
    "    llm=llm,\n",
    "    memory=ConversationBufferMemory()\n",
    ")\n",
    "\n",
    "# Example usage\n",
    "queries = [\n",
    "    \"Who is David Austin?\",\n",
    "    \"What is his salary?\",\n",
    "    \"Is there someone else with the same first name?\",\n",
    "    \"Is there someone with the same origin as him?\"\n",
    "]\n",
    "for query in queries:\n",
    "    response = run_with_conversation_buffer(qa, query, conversation_buf)\n",
    "    print(\"Response:\", response)"
   ]
  },
  {
   "cell_type": "code",
   "execution_count": 14,
   "id": "560e0008-0a23-4020-900e-9edf584c0896",
   "metadata": {},
   "outputs": [
    {
     "name": "stdout",
     "output_type": "stream",
     "text": [
      "['Steven King', 'Neena Kochhar', 'Lex De Haan', 'Alexander Hunold', 'Bruce Ernst', 'David Austin', 'Valli Pataballa', 'Diana Lorentz', 'Nancy Greenberg', 'Daniel Faviet', 'John Chen', 'Ismael Sciarra', 'Jose Manuel Urman']\n"
     ]
    }
   ],
   "source": [
    "client = OpenAI(api_key=os.getenv('OPENAPI_KEY'))\n",
    "\n",
    "query=\"You are an HR servant and need to provide answers in this format: name1,name2,name3, ...,namen from this pdf:\"+str(documents)+\". Please list the employees\"\n",
    "\n",
    "def get_employees():\n",
    "    result = qa.invoke(query)\n",
    "\n",
    "    return result['result']\n",
    "    \n",
    "print(get_employees().split(', '))\n"
   ]
  },
  {
   "cell_type": "code",
   "execution_count": null,
   "id": "5584e116-3e2f-499c-83f2-c762528de35f",
   "metadata": {},
   "outputs": [],
   "source": [
    "import streamlit as st\n",
    "\n",
    "# Example OpenAI response in string format\n",
    "openai_response_string = \"Option 1, Option 2, Option 3\"\n",
    "\n",
    "# Split the string into a list using the comma as the separator\n",
    "openai_response_list = openai_response_string.split(', ')\n",
    "\n",
    "# Add the select box to the Streamlit app using the list\n",
    "selected_option = st.selectbox('Select an option:', openai_response_list)\n",
    "\n",
    "# Display the selected option\n",
    "st.write('You selected:', selected_option)\n"
   ]
  }
 ],
 "metadata": {
  "kernelspec": {
   "display_name": "Python 3 (ipykernel)",
   "language": "python",
   "name": "python3"
  },
  "language_info": {
   "codemirror_mode": {
    "name": "ipython",
    "version": 3
   },
   "file_extension": ".py",
   "mimetype": "text/x-python",
   "name": "python",
   "nbconvert_exporter": "python",
   "pygments_lexer": "ipython3",
   "version": "3.11.7"
  }
 },
 "nbformat": 4,
 "nbformat_minor": 5
}
